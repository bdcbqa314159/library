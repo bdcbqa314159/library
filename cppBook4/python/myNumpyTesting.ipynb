{
 "cells": [
  {
   "cell_type": "code",
   "execution_count": 1,
   "id": "ecf75e03",
   "metadata": {},
   "outputs": [],
   "source": [
    "import numpy as np\n",
    "import myNumpy"
   ]
  },
  {
   "cell_type": "code",
   "execution_count": 2,
   "id": "c433c757",
   "metadata": {},
   "outputs": [
    {
     "name": "stdout",
     "output_type": "stream",
     "text": [
      "Numerical Recipes with cpp & python -> let's have some numerical fun.\n"
     ]
    }
   ],
   "source": [
    "myNumpy.message()"
   ]
  },
  {
   "cell_type": "code",
   "execution_count": 3,
   "id": "6baf49be",
   "metadata": {},
   "outputs": [
    {
     "data": {
      "text/plain": [
       "['Linear_interp',\n",
       " 'Poly_interp',\n",
       " '__doc__',\n",
       " '__file__',\n",
       " '__loader__',\n",
       " '__name__',\n",
       " '__package__',\n",
       " '__spec__',\n",
       " 'message',\n",
       " 'vecFlt32',\n",
       " 'vecFlt64']"
      ]
     },
     "execution_count": 3,
     "metadata": {},
     "output_type": "execute_result"
    }
   ],
   "source": [
    "dir(myNumpy)"
   ]
  },
  {
   "cell_type": "markdown",
   "id": "4e71ff48",
   "metadata": {},
   "source": [
    "# Interpolation"
   ]
  },
  {
   "cell_type": "code",
   "execution_count": 4,
   "id": "7cccaf8a",
   "metadata": {},
   "outputs": [],
   "source": [
    "import matplotlib.pyplot as plt"
   ]
  },
  {
   "cell_type": "code",
   "execution_count": 5,
   "id": "ac6e34a8",
   "metadata": {},
   "outputs": [
    {
     "data": {
      "image/png": "[encoded data removed]",
      "text/plain": [
       "<Figure size 432x288 with 1 Axes>"
      ]
     },
     "metadata": {
      "needs_background": "light"
     },
     "output_type": "display_data"
    }
   ],
   "source": [
    "x = np.linspace(0, 2*np.pi, 10)\n",
    "y = np.sin(x)\n",
    "\n",
    "xvals = np.linspace(0, 2*np.pi, 50)\n",
    "yinterp = np.interp(xvals, x, y)\n",
    "\n",
    "plt.plot(x, y, 'o')\n",
    "plt.plot(xvals, yinterp, '-x')\n",
    "plt.show()"
   ]
  },
  {
   "cell_type": "markdown",
   "id": "b7d64362",
   "metadata": {},
   "source": [
    "## First approach around a point"
   ]
  },
  {
   "cell_type": "code",
   "execution_count": 6,
   "id": "ccc6e052",
   "metadata": {},
   "outputs": [],
   "source": [
    "a = np.array([1,2,3,4,5,6,7,8,9]).astype(np.float64)\n",
    "b = a*a"
   ]
  },
  {
   "cell_type": "code",
   "execution_count": 7,
   "id": "65f254c8",
   "metadata": {},
   "outputs": [],
   "source": [
    "x = myNumpy.vecFlt64(a)\n",
    "y = myNumpy.vecFlt64(b)"
   ]
  },
  {
   "cell_type": "code",
   "execution_count": 8,
   "id": "c870d27b",
   "metadata": {},
   "outputs": [],
   "source": [
    "myfunc = myNumpy.Linear_interp(x,y)"
   ]
  },
  {
   "cell_type": "code",
   "execution_count": 9,
   "id": "b00171ca",
   "metadata": {},
   "outputs": [
    {
     "data": {
      "text/plain": [
       "8.8"
      ]
     },
     "execution_count": 9,
     "metadata": {},
     "output_type": "execute_result"
    }
   ],
   "source": [
    "myfunc.rawinterp(3,3.2)"
   ]
  },
  {
   "cell_type": "markdown",
   "id": "ec85d76f",
   "metadata": {},
   "source": [
    "## Second approach with a curve"
   ]
  },
  {
   "cell_type": "code",
   "execution_count": 10,
   "id": "65792e92",
   "metadata": {},
   "outputs": [],
   "source": [
    "x = np.linspace(0, 2*np.pi, 10)\n",
    "y = np.sin(x)\n",
    "xvals = np.linspace(0, 2*np.pi, 50)"
   ]
  },
  {
   "cell_type": "code",
   "execution_count": 11,
   "id": "86558993",
   "metadata": {},
   "outputs": [],
   "source": [
    "X = myNumpy.vecFlt64(x.astype(np.float64))\n",
    "Y = myNumpy.vecFlt64(y.astype(np.float64))"
   ]
  },
  {
   "cell_type": "code",
   "execution_count": 12,
   "id": "0df951fd",
   "metadata": {},
   "outputs": [],
   "source": [
    "f = myNumpy.Linear_interp(X,Y)"
   ]
  },
  {
   "cell_type": "code",
   "execution_count": 13,
   "id": "f45d4926",
   "metadata": {},
   "outputs": [],
   "source": [
    "Y_interp = np.array([f.interp(j) for j in xvals]).astype(np.float64)"
   ]
  },
  {
   "cell_type": "code",
   "execution_count": 14,
   "id": "317222fa",
   "metadata": {},
   "outputs": [
    {
     "data": {
      "image/png": "[encoded data removed]",
      "text/plain": [
       "<Figure size 432x288 with 1 Axes>"
      ]
     },
     "metadata": {
      "needs_background": "light"
     },
     "output_type": "display_data"
    }
   ],
   "source": [
    "plt.plot(x, y, 'o')\n",
    "plt.plot(xvals, Y_interp, '-x')\n",
    "plt.show()"
   ]
  },
  {
   "cell_type": "markdown",
   "id": "67033020",
   "metadata": {},
   "source": [
    "# Polynomial interpolation"
   ]
  },
  {
   "cell_type": "code",
   "execution_count": 15,
   "id": "334b0490",
   "metadata": {},
   "outputs": [
    {
     "data": {
      "text/plain": [
       "array([-0.01666667,  1.11428571, -0.1547619 ,  0.01428571])"
      ]
     },
     "execution_count": 15,
     "metadata": {},
     "output_type": "execute_result"
    }
   ],
   "source": [
    "x = np.array([0.0, 1.0, 2.0, 3.0,  4.0,  5.0])\n",
    "y = np.array([0.0, 1., 4., 9.1, 16.2, 25.])\n",
    "z = np.polyfit(x, y, 3)\n",
    "z"
   ]
  },
  {
   "cell_type": "code",
   "execution_count": 16,
   "id": "2167a124",
   "metadata": {},
   "outputs": [
    {
     "data": {
      "text/plain": [
       "(0.21339285714286174, 12.408035714285722, 93.22857142857144)"
      ]
     },
     "execution_count": 16,
     "metadata": {},
     "output_type": "execute_result"
    }
   ],
   "source": [
    "p = np.poly1d(z)\n",
    "p(0.5),p(3.5),p(10)"
   ]
  },
  {
   "cell_type": "code",
   "execution_count": 17,
   "id": "4bff0c7c",
   "metadata": {},
   "outputs": [],
   "source": [
    "import warnings\n",
    "with warnings.catch_warnings():\n",
    "    warnings.simplefilter('ignore', np.RankWarning)\n",
    "    p30 = np.poly1d(np.polyfit(x, y, 30))"
   ]
  },
  {
   "cell_type": "code",
   "execution_count": 18,
   "id": "7c6a6846",
   "metadata": {},
   "outputs": [
    {
     "data": {
      "text/plain": [
       "16.200000000000006"
      ]
     },
     "execution_count": 18,
     "metadata": {},
     "output_type": "execute_result"
    }
   ],
   "source": [
    "p30(4)"
   ]
  },
  {
   "cell_type": "code",
   "execution_count": 19,
   "id": "039ac0af",
   "metadata": {},
   "outputs": [
    {
     "data": {
      "image/png": "[encoded data removed]",
      "text/plain": [
       "<Figure size 432x288 with 1 Axes>"
      ]
     },
     "metadata": {
      "needs_background": "light"
     },
     "output_type": "display_data"
    }
   ],
   "source": [
    "xp = np.linspace(-2, 6, 100)\n",
    "_ = plt.plot(x, y, '.', xp, p(xp), '-', xp, p30(xp), '--')\n",
    "plt.ylim(-2,2)\n",
    "(-2, 2)\n",
    "plt.show()"
   ]
  },
  {
   "cell_type": "code",
   "execution_count": 128,
   "id": "10e543a5",
   "metadata": {},
   "outputs": [],
   "source": [
    "class vec2np:\n",
    "    def __init__(self, nrVector):\n",
    "        self.nrV = nrVector;\n",
    "        self.np = np.array([self.nrV[i] for i in range(self.nrV.size())])\n",
    "        \n",
    "\n",
    "x = np.array([8.1,8.3,8.6,8.7])\n",
    "y = np.array([16.9446,17.56492,18.50515,18.82091])\n",
    "\n",
    "x = np.array([0.1,0.3,0.4,0.6,0.8])\n",
    "y = np.sin(x)\n",
    "\n",
    "X = myNumpy.vecFlt64(x.astype(np.float64))\n",
    "Y = myNumpy.vecFlt64(y.astype(np.float64))"
   ]
  },
  {
   "cell_type": "code",
   "execution_count": 129,
   "id": "0536d0bb",
   "metadata": {},
   "outputs": [
    {
     "data": {
      "text/plain": [
       "array([0.09983342, 0.29552021, 0.38941834, 0.56464247, 0.71735609])"
      ]
     },
     "execution_count": 129,
     "metadata": {},
     "output_type": "execute_result"
    }
   ],
   "source": [
    "vec2np(Y).np"
   ]
  },
  {
   "cell_type": "code",
   "execution_count": 144,
   "id": "76f02078",
   "metadata": {},
   "outputs": [],
   "source": [
    "f = myNumpy.Poly_interp(X,Y, 4)"
   ]
  },
  {
   "cell_type": "code",
   "execution_count": 146,
   "id": "0edc72a0",
   "metadata": {},
   "outputs": [
    {
     "data": {
      "text/plain": [
       "0.04125253763344336"
      ]
     },
     "execution_count": 146,
     "metadata": {},
     "output_type": "execute_result"
    }
   ],
   "source": [
    "f.interp(0.55)"
   ]
  },
  {
   "cell_type": "code",
   "execution_count": 117,
   "id": "dae682f7",
   "metadata": {},
   "outputs": [],
   "source": [
    "xvals = np.linspace(0, 6, 10)\n",
    "Y_interp = np.array([f.interp(j) for j in xvals]).astype(np.float64)"
   ]
  },
  {
   "cell_type": "code",
   "execution_count": 118,
   "id": "4b6446c2",
   "metadata": {},
   "outputs": [
    {
     "data": {
      "image/png": "[encoded data removed]",
      "text/plain": [
       "<Figure size 432x288 with 1 Axes>"
      ]
     },
     "metadata": {
      "needs_background": "light"
     },
     "output_type": "display_data"
    }
   ],
   "source": [
    "plt.plot(x, y, 'o')\n",
    "plt.plot(xvals, Y_interp, '-x')\n",
    "plt.show()"
   ]
  },
  {
   "cell_type": "code",
   "execution_count": null,
   "id": "af6e490d",
   "metadata": {},
   "outputs": [],
   "source": []
  },
  {
   "cell_type": "code",
   "execution_count": null,
   "id": "615fa882",
   "metadata": {},
   "outputs": [],
   "source": []
  }
 ],
 "metadata": {
  "kernelspec": {
   "display_name": "Python 3 (ipykernel)",
   "language": "python",
   "name": "python3"
  },
  "language_info": {
   "codemirror_mode": {
    "name": "ipython",
    "version": 3
   },
   "file_extension": ".py",
   "mimetype": "text/x-python",
   "name": "python",
   "nbconvert_exporter": "python",
   "pygments_lexer": "ipython3",
   "version": "3.9.7"
  }
 },
 "nbformat": 4,
 "nbformat_minor": 5
}
