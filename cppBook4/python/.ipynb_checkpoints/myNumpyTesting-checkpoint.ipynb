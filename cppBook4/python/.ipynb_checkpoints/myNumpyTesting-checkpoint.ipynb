{
 "cells": [
  {
   "cell_type": "code",
   "execution_count": 1,
   "id": "ecf75e03",
   "metadata": {},
   "outputs": [],
   "source": [
    "import numpy as np\n",
    "import myNumpy"
   ]
  },
  {
   "cell_type": "code",
   "execution_count": 2,
   "id": "c433c757",
   "metadata": {},
   "outputs": [
    {
     "name": "stdout",
     "output_type": "stream",
     "text": [
      "Numerical Recipes with cpp & python -> let's have some numerical fun.\n"
     ]
    }
   ],
   "source": [
    "myNumpy.message()"
   ]
  },
  {
   "cell_type": "code",
   "execution_count": 3,
   "id": "6baf49be",
   "metadata": {},
   "outputs": [
    {
     "data": {
      "text/plain": [
       "['Linear_interp',\n",
       " 'Poly_interp',\n",
       " '__doc__',\n",
       " '__file__',\n",
       " '__loader__',\n",
       " '__name__',\n",
       " '__package__',\n",
       " '__spec__',\n",
       " 'message',\n",
       " 'vecFlt32',\n",
       " 'vecFlt64']"
      ]
     },
     "execution_count": 3,
     "metadata": {},
     "output_type": "execute_result"
    }
   ],
   "source": [
    "dir(myNumpy)"
   ]
  },
  {
   "cell_type": "markdown",
   "id": "a9414fc9",
   "metadata": {},
   "source": [
    "# Interpolation"
   ]
  },
  {
   "cell_type": "code",
   "execution_count": 4,
   "id": "fc74dcaf",
   "metadata": {},
   "outputs": [],
   "source": [
    "import matplotlib.pyplot as plt"
   ]
  },
  {
   "cell_type": "code",
   "execution_count": 5,
   "id": "1068deb7",
   "metadata": {},
   "outputs": [
    {
     "data": {
      "image/png": "[encoded data removed]",
      "text/plain": [
       "<Figure size 432x288 with 1 Axes>"
      ]
     },
     "metadata": {
      "needs_background": "light"
     },
     "output_type": "display_data"
    }
   ],
   "source": [
    "x = np.linspace(0, 2*np.pi, 10)\n",
    "y = np.sin(x)\n",
    "\n",
    "xvals = np.linspace(0, 2*np.pi, 50)\n",
    "yinterp = np.interp(xvals, x, y)\n",
    "\n",
    "plt.plot(x, y, 'o')\n",
    "plt.plot(xvals, yinterp, '-x')\n",
    "plt.show()"
   ]
  },
  {
   "cell_type": "markdown",
   "id": "87067d95",
   "metadata": {},
   "source": [
    "## First approach around a point"
   ]
  },
  {
   "cell_type": "code",
   "execution_count": 6,
   "id": "8b4caa07",
   "metadata": {},
   "outputs": [],
   "source": [
    "a = np.array([1,2,3,4,5,6,7,8,9]).astype(np.float64)\n",
    "b = a*a"
   ]
  },
  {
   "cell_type": "code",
   "execution_count": 7,
   "id": "e529e98f",
   "metadata": {},
   "outputs": [],
   "source": [
    "x = myNumpy.vecFlt64(a)\n",
    "y = myNumpy.vecFlt64(b)"
   ]
  },
  {
   "cell_type": "code",
   "execution_count": 8,
   "id": "4b4d2180",
   "metadata": {},
   "outputs": [],
   "source": [
    "myfunc = myNumpy.Linear_interp(x,y)"
   ]
  },
  {
   "cell_type": "code",
   "execution_count": 9,
   "id": "18caa68f",
   "metadata": {},
   "outputs": [
    {
     "data": {
      "text/plain": [
       "8.8"
      ]
     },
     "execution_count": 9,
     "metadata": {},
     "output_type": "execute_result"
    }
   ],
   "source": [
    "myfunc.rawinterp(3,3.2)"
   ]
  },
  {
   "cell_type": "markdown",
   "id": "054cbb2a",
   "metadata": {},
   "source": [
    "## Second approach with a curve"
   ]
  },
  {
   "cell_type": "code",
   "execution_count": 10,
   "id": "3793b003",
   "metadata": {},
   "outputs": [],
   "source": [
    "x = np.linspace(0, 2*np.pi, 10)\n",
    "y = np.sin(x)\n",
    "xvals = np.linspace(0, 2*np.pi, 50)"
   ]
  },
  {
   "cell_type": "code",
   "execution_count": 11,
   "id": "f32d9f92",
   "metadata": {},
   "outputs": [],
   "source": [
    "X = myNumpy.vecFlt64(x.astype(np.float64))\n",
    "Y = myNumpy.vecFlt64(y.astype(np.float64))"
   ]
  },
  {
   "cell_type": "code",
   "execution_count": 12,
   "id": "fd95afb2",
   "metadata": {},
   "outputs": [],
   "source": [
    "f = myNumpy.Linear_interp(X,Y)"
   ]
  },
  {
   "cell_type": "code",
   "execution_count": 13,
   "id": "0086a72a",
   "metadata": {},
   "outputs": [],
   "source": [
    "Y_interp = np.array([f.interp(j) for j in xvals]).astype(np.float64)"
   ]
  },
  {
   "cell_type": "code",
   "execution_count": 14,
   "id": "56a48aa3",
   "metadata": {},
   "outputs": [
    {
     "data": {
      "image/png": "[encoded data removed]",
      "text/plain": [
       "<Figure size 432x288 with 1 Axes>"
      ]
     },
     "metadata": {
      "needs_background": "light"
     },
     "output_type": "display_data"
    }
   ],
   "source": [
    "plt.plot(x, y, 'o')\n",
    "plt.plot(xvals, Y_interp, '-x')\n",
    "plt.show()"
   ]
  },
  {
   "cell_type": "markdown",
   "id": "2e8e55e1",
   "metadata": {},
   "source": [
    "# Polynomial interpolation"
   ]
  },
  {
   "cell_type": "code",
   "execution_count": 15,
   "id": "bdbd0f1a",
   "metadata": {},
   "outputs": [
    {
     "data": {
      "text/plain": [
       "array([-0.01666667,  1.11428571, -0.1547619 ,  0.01428571])"
      ]
     },
     "execution_count": 15,
     "metadata": {},
     "output_type": "execute_result"
    }
   ],
   "source": [
    "x = np.array([0.0, 1.0, 2.0, 3.0,  4.0,  5.0])\n",
    "y = np.array([0.0, 1., 4., 9.1, 16.2, 25.])\n",
    "z = np.polyfit(x, y, 3)\n",
    "z"
   ]
  },
  {
   "cell_type": "code",
   "execution_count": 16,
   "id": "106dc671",
   "metadata": {},
   "outputs": [
    {
     "data": {
      "text/plain": [
       "(0.21339285714286174, 12.408035714285722, 93.22857142857144)"
      ]
     },
     "execution_count": 16,
     "metadata": {},
     "output_type": "execute_result"
    }
   ],
   "source": [
    "p = np.poly1d(z)\n",
    "p(0.5),p(3.5),p(10)"
   ]
  },
  {
   "cell_type": "code",
   "execution_count": 17,
   "id": "4a0523f7",
   "metadata": {},
   "outputs": [],
   "source": [
    "import warnings\n",
    "with warnings.catch_warnings():\n",
    "    warnings.simplefilter('ignore', np.RankWarning)\n",
    "    p30 = np.poly1d(np.polyfit(x, y, 30))"
   ]
  },
  {
   "cell_type": "code",
   "execution_count": 18,
   "id": "e4d629b8",
   "metadata": {},
   "outputs": [
    {
     "data": {
      "text/plain": [
       "16.200000000000006"
      ]
     },
     "execution_count": 18,
     "metadata": {},
     "output_type": "execute_result"
    }
   ],
   "source": [
    "p30(4)"
   ]
  },
  {
   "cell_type": "code",
   "execution_count": 19,
   "id": "5eccbbe6",
   "metadata": {},
   "outputs": [
    {
     "data": {
      "image/png": "[encoded data removed]",
      "text/plain": [
       "<Figure size 432x288 with 1 Axes>"
      ]
     },
     "metadata": {
      "needs_background": "light"
     },
     "output_type": "display_data"
    }
   ],
   "source": [
    "xp = np.linspace(-2, 6, 100)\n",
    "_ = plt.plot(x, y, '.', xp, p(xp), '-', xp, p30(xp), '--')\n",
    "plt.ylim(-2,2)\n",
    "(-2, 2)\n",
    "plt.show()"
   ]
  },
  {
   "cell_type": "code",
   "execution_count": null,
   "id": "a1e775c1",
   "metadata": {},
   "outputs": [],
   "source": [
    "\n",
    "\n"
   ]
  },
  {
   "cell_type": "code",
   "execution_count": 74,
   "id": "79e27437",
   "metadata": {},
   "outputs": [],
   "source": [
    "class vec2np:\n",
    "    def __init__(self, nrVector):\n",
    "        self.nrV = nrVector;\n",
    "        self.np = np.array([self.nrV[i] for i in range(self.nrV.size())])\n",
    "        \n",
    "\n",
    "x = np.array([8.1,8.3,8.6,8.7])\n",
    "y = np.sin([16.9446,17.56492,18.50515,18.82091])\n",
    "\n",
    "X = myNumpy.vecFlt64(x.astype(np.float64))\n",
    "Y = myNumpy.vecFlt64(y.astype(np.float64))"
   ]
  },
  {
   "cell_type": "code",
   "execution_count": 75,
   "id": "c33fa9f3",
   "metadata": {},
   "outputs": [
    {
     "data": {
      "text/plain": [
       "array([ 0.14112001, -0.68776616, -0.99616461, -0.55068554,  0.31154136])"
      ]
     },
     "execution_count": 75,
     "metadata": {},
     "output_type": "execute_result"
    }
   ],
   "source": [
    "vec2np(Y).np"
   ]
  },
  {
   "cell_type": "code",
   "execution_count": 76,
   "id": "b467e4c0",
   "metadata": {},
   "outputs": [],
   "source": [
    "f = myNumpy.Poly_interp(X,Y, 3)"
   ]
  },
  {
   "cell_type": "code",
   "execution_count": 77,
   "id": "b426171a",
   "metadata": {},
   "outputs": [
    {
     "data": {
      "text/plain": [
       "1.1656381716026711"
      ]
     },
     "execution_count": 77,
     "metadata": {},
     "output_type": "execute_result"
    }
   ],
   "source": [
    "f.interp(0.5)"
   ]
  },
  {
   "cell_type": "code",
   "execution_count": 78,
   "id": "f1df1738",
   "metadata": {},
   "outputs": [
    {
     "data": {
      "text/plain": [
       "-1.8201455745405184"
      ]
     },
     "execution_count": 78,
     "metadata": {},
     "output_type": "execute_result"
    }
   ],
   "source": [
    "f.interp(3.5)"
   ]
  },
  {
   "cell_type": "code",
   "execution_count": 79,
   "id": "ff5277ee",
   "metadata": {},
   "outputs": [
    {
     "data": {
      "text/plain": [
       "1.3457880021415276"
      ]
     },
     "execution_count": 79,
     "metadata": {},
     "output_type": "execute_result"
    }
   ],
   "source": [
    "f.interp(10)"
   ]
  },
  {
   "cell_type": "code",
   "execution_count": 82,
   "id": "2f95862c",
   "metadata": {},
   "outputs": [],
   "source": [
    "xvals = np.linspace(1, 2.3, 10)\n",
    "Y_interp = np.array([f.interp(j) for j in xvals]).astype(np.float64)"
   ]
  },
  {
   "cell_type": "code",
   "execution_count": 83,
   "id": "89680f13",
   "metadata": {},
   "outputs": [
    {
     "data": {
      "image/png": "[encoded data removed]",
      "text/plain": [
       "<Figure size 432x288 with 1 Axes>"
      ]
     },
     "metadata": {
      "needs_background": "light"
     },
     "output_type": "display_data"
    }
   ],
   "source": [
    "plt.plot(x, y, 'o')\n",
    "plt.plot(xvals, Y_interp, '-x')\n",
    "plt.show()"
   ]
  },
  {
   "cell_type": "code",
   "execution_count": null,
   "id": "05ec009e",
   "metadata": {},
   "outputs": [],
   "source": []
  },
  {
   "cell_type": "code",
   "execution_count": null,
   "id": "783c2a0f",
   "metadata": {},
   "outputs": [],
   "source": []
  }
 ],
 "metadata": {
  "kernelspec": {
   "display_name": "Python 3 (ipykernel)",
   "language": "python",
   "name": "python3"
  },
  "language_info": {
   "codemirror_mode": {
    "name": "ipython",
    "version": 3
   },
   "file_extension": ".py",
   "mimetype": "text/x-python",
   "name": "python",
   "nbconvert_exporter": "python",
   "pygments_lexer": "ipython3",
   "version": "3.9.7"
  }
 },
 "nbformat": 4,
 "nbformat_minor": 5
}
